{
 "cells": [
  {
   "cell_type": "code",
   "execution_count": 1,
   "id": "79d105a8-a8f3-40e3-8aed-67c60468008b",
   "metadata": {
    "scrolled": true
   },
   "outputs": [
    {
     "name": "stdout",
     "output_type": "stream",
     "text": [
      "Defaulting to user installation because normal site-packages is not writeable\n",
      "Requirement already satisfied: numpy in c:\\users\\dell\\appdata\\local\\packages\\pythonsoftwarefoundation.python.3.13_qbz5n2kfra8p0\\localcache\\local-packages\\python313\\site-packages (2.3.2)\n",
      "Defaulting to user installation because normal site-packages is not writeable\n",
      "Requirement already satisfied: pandas in c:\\users\\dell\\appdata\\local\\packages\\pythonsoftwarefoundation.python.3.13_qbz5n2kfra8p0\\localcache\\local-packages\\python313\\site-packages (2.3.2)\n",
      "Requirement already satisfied: numpy>=1.26.0 in c:\\users\\dell\\appdata\\local\\packages\\pythonsoftwarefoundation.python.3.13_qbz5n2kfra8p0\\localcache\\local-packages\\python313\\site-packages (from pandas) (2.3.2)\n",
      "Requirement already satisfied: python-dateutil>=2.8.2 in c:\\users\\dell\\appdata\\local\\packages\\pythonsoftwarefoundation.python.3.13_qbz5n2kfra8p0\\localcache\\local-packages\\python313\\site-packages (from pandas) (2.9.0.post0)\n",
      "Requirement already satisfied: pytz>=2020.1 in c:\\users\\dell\\appdata\\local\\packages\\pythonsoftwarefoundation.python.3.13_qbz5n2kfra8p0\\localcache\\local-packages\\python313\\site-packages (from pandas) (2025.2)\n",
      "Requirement already satisfied: tzdata>=2022.7 in c:\\users\\dell\\appdata\\local\\packages\\pythonsoftwarefoundation.python.3.13_qbz5n2kfra8p0\\localcache\\local-packages\\python313\\site-packages (from pandas) (2025.2)\n",
      "Requirement already satisfied: six>=1.5 in c:\\users\\dell\\appdata\\local\\packages\\pythonsoftwarefoundation.python.3.13_qbz5n2kfra8p0\\localcache\\local-packages\\python313\\site-packages (from python-dateutil>=2.8.2->pandas) (1.17.0)\n"
     ]
    }
   ],
   "source": [
    "!pip install numpy\n",
    "!pip install pandas\n",
    "\n",
    "\n",
    "\n",
    "import numpy as np\n",
    "import pandas as pd\n",
    "\n"
   ]
  },
  {
   "cell_type": "markdown",
   "id": "558c67b1-8481-462f-85d2-a0b23f8eb6af",
   "metadata": {},
   "source": [
    "<h3>Converting Database into DataFrame</h3>\n",
    "<hr>"
   ]
  },
  {
   "cell_type": "code",
   "execution_count": 2,
   "id": "49b04d5c-9c93-4ea9-8efa-9d4af0d56106",
   "metadata": {},
   "outputs": [],
   "source": [
    "drive = pd.read_csv('uk_road_accident.csv')"
   ]
  },
  {
   "cell_type": "code",
   "execution_count": 3,
   "id": "878d9e0b-6a1b-40aa-b4a9-8d857be70159",
   "metadata": {},
   "outputs": [
    {
     "data": {
      "text/html": [
       "<div>\n",
       "<style scoped>\n",
       "    .dataframe tbody tr th:only-of-type {\n",
       "        vertical-align: middle;\n",
       "    }\n",
       "\n",
       "    .dataframe tbody tr th {\n",
       "        vertical-align: top;\n",
       "    }\n",
       "\n",
       "    .dataframe thead th {\n",
       "        text-align: right;\n",
       "    }\n",
       "</style>\n",
       "<table border=\"1\" class=\"dataframe\">\n",
       "  <thead>\n",
       "    <tr style=\"text-align: right;\">\n",
       "      <th></th>\n",
       "      <th>Index</th>\n",
       "      <th>Accident_Severity</th>\n",
       "      <th>Accident Date</th>\n",
       "      <th>Latitude</th>\n",
       "      <th>Light_Conditions</th>\n",
       "      <th>District Area</th>\n",
       "      <th>Longitude</th>\n",
       "      <th>Number_of_Casualties</th>\n",
       "      <th>Number_of_Vehicles</th>\n",
       "      <th>Road_Surface_Conditions</th>\n",
       "      <th>Road_Type</th>\n",
       "      <th>Urban_or_Rural_Area</th>\n",
       "      <th>Weather_Conditions</th>\n",
       "      <th>Vehicle_Type</th>\n",
       "    </tr>\n",
       "  </thead>\n",
       "  <tbody>\n",
       "    <tr>\n",
       "      <th>0</th>\n",
       "      <td>200701BS64157</td>\n",
       "      <td>Serious</td>\n",
       "      <td>5/6/2019</td>\n",
       "      <td>51.506187</td>\n",
       "      <td>Darkness - lights lit</td>\n",
       "      <td>Kensington and Chelsea</td>\n",
       "      <td>-0.209082</td>\n",
       "      <td>1</td>\n",
       "      <td>2</td>\n",
       "      <td>Dry</td>\n",
       "      <td>Single carriageway</td>\n",
       "      <td>Urban</td>\n",
       "      <td>Fine no high winds</td>\n",
       "      <td>Car</td>\n",
       "    </tr>\n",
       "    <tr>\n",
       "      <th>1</th>\n",
       "      <td>200701BS65737</td>\n",
       "      <td>Serious</td>\n",
       "      <td>2/7/2019</td>\n",
       "      <td>51.495029</td>\n",
       "      <td>Daylight</td>\n",
       "      <td>Kensington and Chelsea</td>\n",
       "      <td>-0.173647</td>\n",
       "      <td>1</td>\n",
       "      <td>2</td>\n",
       "      <td>Wet or damp</td>\n",
       "      <td>Single carriageway</td>\n",
       "      <td>Urban</td>\n",
       "      <td>Raining no high winds</td>\n",
       "      <td>Car</td>\n",
       "    </tr>\n",
       "    <tr>\n",
       "      <th>2</th>\n",
       "      <td>200701BS66127</td>\n",
       "      <td>Serious</td>\n",
       "      <td>26-08-2019</td>\n",
       "      <td>51.517715</td>\n",
       "      <td>Darkness - lighting unknown</td>\n",
       "      <td>Kensington and Chelsea</td>\n",
       "      <td>-0.210215</td>\n",
       "      <td>1</td>\n",
       "      <td>3</td>\n",
       "      <td>Dry</td>\n",
       "      <td>NaN</td>\n",
       "      <td>Urban</td>\n",
       "      <td>NaN</td>\n",
       "      <td>Taxi/Private hire car</td>\n",
       "    </tr>\n",
       "    <tr>\n",
       "      <th>3</th>\n",
       "      <td>200701BS66128</td>\n",
       "      <td>Serious</td>\n",
       "      <td>16-08-2019</td>\n",
       "      <td>51.495478</td>\n",
       "      <td>Daylight</td>\n",
       "      <td>Kensington and Chelsea</td>\n",
       "      <td>-0.202731</td>\n",
       "      <td>1</td>\n",
       "      <td>4</td>\n",
       "      <td>Dry</td>\n",
       "      <td>Single carriageway</td>\n",
       "      <td>Urban</td>\n",
       "      <td>Fine no high winds</td>\n",
       "      <td>Bus or coach (17 or more pass seats)</td>\n",
       "    </tr>\n",
       "    <tr>\n",
       "      <th>4</th>\n",
       "      <td>200701BS66837</td>\n",
       "      <td>Slight</td>\n",
       "      <td>3/9/2019</td>\n",
       "      <td>51.488576</td>\n",
       "      <td>Darkness - lights lit</td>\n",
       "      <td>Kensington and Chelsea</td>\n",
       "      <td>-0.192487</td>\n",
       "      <td>1</td>\n",
       "      <td>2</td>\n",
       "      <td>Dry</td>\n",
       "      <td>NaN</td>\n",
       "      <td>Urban</td>\n",
       "      <td>NaN</td>\n",
       "      <td>Other vehicle</td>\n",
       "    </tr>\n",
       "    <tr>\n",
       "      <th>...</th>\n",
       "      <td>...</td>\n",
       "      <td>...</td>\n",
       "      <td>...</td>\n",
       "      <td>...</td>\n",
       "      <td>...</td>\n",
       "      <td>...</td>\n",
       "      <td>...</td>\n",
       "      <td>...</td>\n",
       "      <td>...</td>\n",
       "      <td>...</td>\n",
       "      <td>...</td>\n",
       "      <td>...</td>\n",
       "      <td>...</td>\n",
       "      <td>...</td>\n",
       "    </tr>\n",
       "    <tr>\n",
       "      <th>660674</th>\n",
       "      <td>201091NM01760</td>\n",
       "      <td>Slight</td>\n",
       "      <td>18-02-2022</td>\n",
       "      <td>57.374005</td>\n",
       "      <td>Daylight</td>\n",
       "      <td>Highland</td>\n",
       "      <td>-3.467828</td>\n",
       "      <td>2</td>\n",
       "      <td>1</td>\n",
       "      <td>Dry</td>\n",
       "      <td>Single carriageway</td>\n",
       "      <td>Rural</td>\n",
       "      <td>Fine no high winds</td>\n",
       "      <td>Car</td>\n",
       "    </tr>\n",
       "    <tr>\n",
       "      <th>660675</th>\n",
       "      <td>201091NM01881</td>\n",
       "      <td>Slight</td>\n",
       "      <td>21-02-2022</td>\n",
       "      <td>57.232273</td>\n",
       "      <td>Darkness - no lighting</td>\n",
       "      <td>Highland</td>\n",
       "      <td>-3.809281</td>\n",
       "      <td>1</td>\n",
       "      <td>1</td>\n",
       "      <td>Frost or ice</td>\n",
       "      <td>Single carriageway</td>\n",
       "      <td>Rural</td>\n",
       "      <td>Fine no high winds</td>\n",
       "      <td>Car</td>\n",
       "    </tr>\n",
       "    <tr>\n",
       "      <th>660676</th>\n",
       "      <td>201091NM01935</td>\n",
       "      <td>Slight</td>\n",
       "      <td>23-02-2022</td>\n",
       "      <td>57.585044</td>\n",
       "      <td>Daylight</td>\n",
       "      <td>Highland</td>\n",
       "      <td>-3.862727</td>\n",
       "      <td>1</td>\n",
       "      <td>3</td>\n",
       "      <td>Frost or ice</td>\n",
       "      <td>Single carriageway</td>\n",
       "      <td>Rural</td>\n",
       "      <td>Fine no high winds</td>\n",
       "      <td>Car</td>\n",
       "    </tr>\n",
       "    <tr>\n",
       "      <th>660677</th>\n",
       "      <td>201091NM01964</td>\n",
       "      <td>Serious</td>\n",
       "      <td>23-02-2022</td>\n",
       "      <td>57.214898</td>\n",
       "      <td>Darkness - no lighting</td>\n",
       "      <td>Highland</td>\n",
       "      <td>-3.823997</td>\n",
       "      <td>1</td>\n",
       "      <td>2</td>\n",
       "      <td>Wet or damp</td>\n",
       "      <td>Single carriageway</td>\n",
       "      <td>Rural</td>\n",
       "      <td>Fine no high winds</td>\n",
       "      <td>Motorcycle over 500cc</td>\n",
       "    </tr>\n",
       "    <tr>\n",
       "      <th>660678</th>\n",
       "      <td>201091NM02142</td>\n",
       "      <td>Serious</td>\n",
       "      <td>28-02-2022</td>\n",
       "      <td>57.575210</td>\n",
       "      <td>Daylight</td>\n",
       "      <td>Highland</td>\n",
       "      <td>-3.895673</td>\n",
       "      <td>1</td>\n",
       "      <td>1</td>\n",
       "      <td>Wet or damp</td>\n",
       "      <td>Dual carriageway</td>\n",
       "      <td>Rural</td>\n",
       "      <td>Snowing no high winds</td>\n",
       "      <td>Car</td>\n",
       "    </tr>\n",
       "  </tbody>\n",
       "</table>\n",
       "<p>660679 rows × 14 columns</p>\n",
       "</div>"
      ],
      "text/plain": [
       "                Index Accident_Severity Accident Date   Latitude  \\\n",
       "0       200701BS64157           Serious      5/6/2019  51.506187   \n",
       "1       200701BS65737           Serious      2/7/2019  51.495029   \n",
       "2       200701BS66127           Serious    26-08-2019  51.517715   \n",
       "3       200701BS66128           Serious    16-08-2019  51.495478   \n",
       "4       200701BS66837            Slight      3/9/2019  51.488576   \n",
       "...               ...               ...           ...        ...   \n",
       "660674  201091NM01760            Slight    18-02-2022  57.374005   \n",
       "660675  201091NM01881            Slight    21-02-2022  57.232273   \n",
       "660676  201091NM01935            Slight    23-02-2022  57.585044   \n",
       "660677  201091NM01964           Serious    23-02-2022  57.214898   \n",
       "660678  201091NM02142           Serious    28-02-2022  57.575210   \n",
       "\n",
       "                   Light_Conditions           District Area  Longitude  \\\n",
       "0             Darkness - lights lit  Kensington and Chelsea  -0.209082   \n",
       "1                          Daylight  Kensington and Chelsea  -0.173647   \n",
       "2       Darkness - lighting unknown  Kensington and Chelsea  -0.210215   \n",
       "3                          Daylight  Kensington and Chelsea  -0.202731   \n",
       "4             Darkness - lights lit  Kensington and Chelsea  -0.192487   \n",
       "...                             ...                     ...        ...   \n",
       "660674                     Daylight                Highland  -3.467828   \n",
       "660675       Darkness - no lighting                Highland  -3.809281   \n",
       "660676                     Daylight                Highland  -3.862727   \n",
       "660677       Darkness - no lighting                Highland  -3.823997   \n",
       "660678                     Daylight                Highland  -3.895673   \n",
       "\n",
       "        Number_of_Casualties  Number_of_Vehicles Road_Surface_Conditions  \\\n",
       "0                          1                   2                     Dry   \n",
       "1                          1                   2             Wet or damp   \n",
       "2                          1                   3                     Dry   \n",
       "3                          1                   4                     Dry   \n",
       "4                          1                   2                     Dry   \n",
       "...                      ...                 ...                     ...   \n",
       "660674                     2                   1                     Dry   \n",
       "660675                     1                   1            Frost or ice   \n",
       "660676                     1                   3            Frost or ice   \n",
       "660677                     1                   2             Wet or damp   \n",
       "660678                     1                   1             Wet or damp   \n",
       "\n",
       "                 Road_Type Urban_or_Rural_Area     Weather_Conditions  \\\n",
       "0       Single carriageway               Urban     Fine no high winds   \n",
       "1       Single carriageway               Urban  Raining no high winds   \n",
       "2                      NaN               Urban                    NaN   \n",
       "3       Single carriageway               Urban     Fine no high winds   \n",
       "4                      NaN               Urban                    NaN   \n",
       "...                    ...                 ...                    ...   \n",
       "660674  Single carriageway               Rural     Fine no high winds   \n",
       "660675  Single carriageway               Rural     Fine no high winds   \n",
       "660676  Single carriageway               Rural     Fine no high winds   \n",
       "660677  Single carriageway               Rural     Fine no high winds   \n",
       "660678    Dual carriageway               Rural  Snowing no high winds   \n",
       "\n",
       "                                Vehicle_Type  \n",
       "0                                        Car  \n",
       "1                                        Car  \n",
       "2                      Taxi/Private hire car  \n",
       "3       Bus or coach (17 or more pass seats)  \n",
       "4                              Other vehicle  \n",
       "...                                      ...  \n",
       "660674                                   Car  \n",
       "660675                                   Car  \n",
       "660676                                   Car  \n",
       "660677                 Motorcycle over 500cc  \n",
       "660678                                   Car  \n",
       "\n",
       "[660679 rows x 14 columns]"
      ]
     },
     "execution_count": 3,
     "metadata": {},
     "output_type": "execute_result"
    }
   ],
   "source": [
    "drive"
   ]
  },
  {
   "cell_type": "markdown",
   "id": "d9fb0f70-3e5b-4a2b-936b-d3411b1c9876",
   "metadata": {},
   "source": [
    "<h3>Questions & Insights</h3>\n",
    "<hr>"
   ]
  },
  {
   "cell_type": "markdown",
   "id": "4254b4fc-f641-4d51-897e-b8c2e6125a44",
   "metadata": {},
   "source": [
    "<h3>Question NO.1</h3>\n",
    "<h4> In the accidents that happend which of the Accident_Severity has the most counts?</h4>"
   ]
  },
  {
   "cell_type": "code",
   "execution_count": 4,
   "id": "e92cb923-32c3-45aa-91cd-eee960f47fe5",
   "metadata": {
    "scrolled": true
   },
   "outputs": [
    {
     "data": {
      "text/plain": [
       "Accident_Severity\n",
       "Slight     563801\n",
       "Serious     88217\n",
       "Fatal        8661\n",
       "Name: count, dtype: int64"
      ]
     },
     "execution_count": 4,
     "metadata": {},
     "output_type": "execute_result"
    }
   ],
   "source": [
    "drive['Accident_Severity'].value_counts()"
   ]
  },
  {
   "cell_type": "markdown",
   "id": "3aea11dc-22e5-422c-a28c-381268a5b467",
   "metadata": {},
   "source": [
    "<h3>Insights NO.1</h3>\n",
    "<h4>Accorging to the data Slight damage has the most number</h4>"
   ]
  },
  {
   "cell_type": "markdown",
   "id": "c76bdf34-4c6d-4e3e-9ecf-d7d4fab4be99",
   "metadata": {},
   "source": [
    "<h3>Question NO.2</h3>\n",
    "<h4>What weather had the most serious vihicle accident that happend?</h4>"
   ]
  },
  {
   "cell_type": "code",
   "execution_count": 5,
   "id": "52b29fdc-d86a-430e-a3ec-8d2078c949e9",
   "metadata": {},
   "outputs": [],
   "source": [
    "weather = drive.groupby(['Weather_Conditions', 'Accident_Severity']).size()"
   ]
  },
  {
   "cell_type": "code",
   "execution_count": 6,
   "id": "976ea004-f5d0-4e52-95cb-3a0731da894a",
   "metadata": {},
   "outputs": [
    {
     "data": {
      "text/plain": [
       "Weather_Conditions     Accident_Severity\n",
       "Fine + high winds      Fatal                   175\n",
       "                       Serious                1245\n",
       "                       Slight                 7134\n",
       "Fine no high winds     Fatal                  7100\n",
       "                       Serious               72046\n",
       "                       Slight               441739\n",
       "Fog or mist            Fatal                    82\n",
       "                       Serious                 483\n",
       "                       Slight                 2963\n",
       "Other                  Fatal                   165\n",
       "                       Serious                1801\n",
       "                       Slight                15184\n",
       "Raining + high winds   Fatal                   145\n",
       "                       Serious                1261\n",
       "                       Slight                 8209\n",
       "Raining no high winds  Fatal                   848\n",
       "                       Serious                9468\n",
       "                       Slight                69380\n",
       "Snowing + high winds   Fatal                     3\n",
       "                       Serious                 109\n",
       "                       Slight                  773\n",
       "Snowing no high winds  Fatal                    36\n",
       "                       Serious                 565\n",
       "                       Slight                 5637\n",
       "dtype: int64"
      ]
     },
     "execution_count": 6,
     "metadata": {},
     "output_type": "execute_result"
    }
   ],
   "source": [
    "weather"
   ]
  },
  {
   "cell_type": "markdown",
   "id": "2a50ff58-d048-4307-9dc8-e31c2b95ed52",
   "metadata": {},
   "source": [
    "<h3>Insights NO.2</h3>\n",
    "<h4>The Fine no high winds weather has the most seriouse accident with 72046 total incident</h4>"
   ]
  },
  {
   "cell_type": "markdown",
   "id": "c9d7c535-7ab8-4f9f-940d-8b142729d883",
   "metadata": {},
   "source": [
    "<h3>Question NO.3</h3>\n",
    "<h4>In the Road Surface Conditions what is prone to accident?</h4>"
   ]
  },
  {
   "cell_type": "code",
   "execution_count": 7,
   "id": "9f697f60-7e6f-4c09-8efa-0aa1ae498ee4",
   "metadata": {},
   "outputs": [
    {
     "data": {
      "text/plain": [
       "Road_Surface_Conditions\n",
       "Dry                     447821\n",
       "Wet or damp             186708\n",
       "Frost or ice             18517\n",
       "Snow                      5890\n",
       "Flood over 3cm. deep      1017\n",
       "Name: count, dtype: int64"
      ]
     },
     "execution_count": 7,
     "metadata": {},
     "output_type": "execute_result"
    }
   ],
   "source": [
    "drive['Road_Surface_Conditions'].value_counts()"
   ]
  },
  {
   "cell_type": "markdown",
   "id": "cfa6ee8b-7b21-4a51-9402-719962aea8e1",
   "metadata": {},
   "source": [
    "<h3>Insights NO.3</h3>\n",
    "<h4>The Dry surface has the highest incident</h4>"
   ]
  },
  {
   "cell_type": "markdown",
   "id": "7a6f13a8-f70d-4359-8b9a-3f7733a74ca8",
   "metadata": {},
   "source": [
    "<h3>Question NO.4</h3>\n",
    "<h4>What kind of vehicle has the highest accident record</h4>"
   ]
  },
  {
   "cell_type": "code",
   "execution_count": 8,
   "id": "e133b737-6694-4783-8281-0fb27909f986",
   "metadata": {},
   "outputs": [
    {
     "data": {
      "text/plain": [
       "Vehicle_Type\n",
       "Car                                      497992\n",
       "Van / Goods 3.5 tonnes mgw or under       34160\n",
       "Bus or coach (17 or more pass seats)      25878\n",
       "Motorcycle over 500cc                     25657\n",
       "Goods 7.5 tonnes mgw and over             17307\n",
       "Motorcycle 125cc and under                15269\n",
       "Taxi/Private hire car                     13294\n",
       "Motorcycle over 125cc and up to 500cc      7656\n",
       "Motorcycle 50cc and under                  7603\n",
       "Goods over 3.5t. and under 7.5t            6096\n",
       "Other vehicle                              5637\n",
       "Minibus (8 - 16 passenger seats)           1976\n",
       "Agricultural vehicle                       1947\n",
       "Pedal cycle                                 197\n",
       "Data missing or out of range                  6\n",
       "Ridden horse                                  4\n",
       "Name: count, dtype: int64"
      ]
     },
     "execution_count": 8,
     "metadata": {},
     "output_type": "execute_result"
    }
   ],
   "source": [
    "drive['Vehicle_Type'].value_counts()"
   ]
  },
  {
   "cell_type": "markdown",
   "id": "b18acf34-a8a7-482f-b52e-e1ac2389e993",
   "metadata": {},
   "source": [
    "<h3>Insights NO.4</h3>\n",
    "<h4>The Car has the most accident record</h4>"
   ]
  },
  {
   "cell_type": "markdown",
   "id": "52b176d2-5296-4db6-a5b7-70a131a32dbe",
   "metadata": {},
   "source": [
    "<h3>Question NO.5</h3>\n",
    "<h3>Which of the two Urban and Rural have more accident records?</h3>"
   ]
  },
  {
   "cell_type": "code",
   "execution_count": 9,
   "id": "956f956f-ebd7-4a02-bdec-dc8a84daea7b",
   "metadata": {},
   "outputs": [
    {
     "data": {
      "text/plain": [
       "Urban_or_Rural_Area\n",
       "Urban          421663\n",
       "Rural          238990\n",
       "Unallocated        11\n",
       "Name: count, dtype: int64"
      ]
     },
     "execution_count": 9,
     "metadata": {},
     "output_type": "execute_result"
    }
   ],
   "source": [
    "drive['Urban_or_Rural_Area'].value_counts()"
   ]
  },
  {
   "cell_type": "markdown",
   "id": "c91cab3f-a1b8-4c4c-b4ca-238a2b089a08",
   "metadata": {},
   "source": [
    "<h3>Insights NO.5</h3>\n",
    "<h4>The Urban has more accident record than Rural</h4>"
   ]
  },
  {
   "cell_type": "markdown",
   "id": "87bc8528-1fd9-4278-8f42-18b96aba9e41",
   "metadata": {},
   "source": [
    "<h3>Question NO.6</h3>\n",
    "<h4>Which part in the UK have the highest number of recorded road accidents?</h4>"
   ]
  },
  {
   "cell_type": "code",
   "execution_count": 10,
   "id": "7d1ffb51-5956-4416-9af6-0642a5f68a29",
   "metadata": {},
   "outputs": [
    {
     "data": {
      "text/plain": [
       "District Area\n",
       "Birmingham            13491\n",
       "Leeds                  8898\n",
       "Manchester             6720\n",
       "Bradford               6212\n",
       "Sheffield              5710\n",
       "                      ...  \n",
       "Berwick-upon-Tweed      153\n",
       "Teesdale                142\n",
       "Shetland Islands        133\n",
       "Orkney Islands          117\n",
       "Clackmannanshire         91\n",
       "Name: count, Length: 422, dtype: int64"
      ]
     },
     "execution_count": 10,
     "metadata": {},
     "output_type": "execute_result"
    }
   ],
   "source": [
    "drive['District Area'].value_counts()"
   ]
  },
  {
   "cell_type": "markdown",
   "id": "9d5122ac-2aca-4ace-af6a-626a214c1223",
   "metadata": {},
   "source": [
    "<h3>Insight no.6</h3>\n",
    "<h4>According to the computation Birmingham has the most accidents that happend </h4>"
   ]
  },
  {
   "cell_type": "markdown",
   "id": "5620da9c-2142-40db-9791-73d18a73bcc2",
   "metadata": {},
   "source": [
    "<h3>Question NO.7</h3>\n",
    "<h4>How many person is usually involve in a road accident?</h4>"
   ]
  },
  {
   "cell_type": "code",
   "execution_count": 11,
   "id": "70cd2398-0617-4fce-8578-8633ed281475",
   "metadata": {},
   "outputs": [
    {
     "data": {
      "text/plain": [
       "0    1\n",
       "Name: Number_of_Casualties, dtype: int64"
      ]
     },
     "execution_count": 11,
     "metadata": {},
     "output_type": "execute_result"
    }
   ],
   "source": [
    "drive['Number_of_Casualties'].mode()"
   ]
  },
  {
   "cell_type": "markdown",
   "id": "e2f21ca0-8345-489b-8fff-e7752acb7664",
   "metadata": {},
   "source": [
    "<h3>Insights.No.7</h3>\n",
    "<h4>Mostly only one person is involved on a road accident</h4>"
   ]
  },
  {
   "cell_type": "markdown",
   "id": "dbd734a7-6ade-4f3f-9bc6-1626296d33fb",
   "metadata": {},
   "source": [
    "<h3>Question NO.8</h3>\n",
    "<h4>What weather has the least accident record?</h4>"
   ]
  },
  {
   "cell_type": "code",
   "execution_count": 12,
   "id": "cca1bc8e-d38c-41c0-a18f-ef7bfd95a97e",
   "metadata": {},
   "outputs": [
    {
     "data": {
      "text/plain": [
       "Weather_Conditions\n",
       "Fine no high winds       520885\n",
       "Raining no high winds     79696\n",
       "Other                     17150\n",
       "Raining + high winds       9615\n",
       "Fine + high winds          8554\n",
       "Snowing no high winds      6238\n",
       "Fog or mist                3528\n",
       "Snowing + high winds        885\n",
       "Name: count, dtype: int64"
      ]
     },
     "execution_count": 12,
     "metadata": {},
     "output_type": "execute_result"
    }
   ],
   "source": [
    "drive['Weather_Conditions'].value_counts()"
   ]
  },
  {
   "cell_type": "markdown",
   "id": "b8d6fe86-2837-4706-93af-f65596630603",
   "metadata": {},
   "source": [
    "<h3>Insights NO.8</h3>\n",
    "<h4>The Snowing + high winds has the least accident record</h4>"
   ]
  },
  {
   "cell_type": "markdown",
   "id": "44a24e26-87bb-40c8-8871-ea88cd6469f8",
   "metadata": {},
   "source": [
    "<h3>Question NO.9</h3>\n",
    "<h4>How many vehicle mostly have an accident in one scene?</h4>"
   ]
  },
  {
   "cell_type": "code",
   "execution_count": 13,
   "id": "b5043502-4a3f-4051-a222-d9ac66d48516",
   "metadata": {},
   "outputs": [
    {
     "data": {
      "text/plain": [
       "Number_of_Vehicles\n",
       "2     391995\n",
       "1     200787\n",
       "3      52806\n",
       "4      11300\n",
       "5       2464\n",
       "6        758\n",
       "7        296\n",
       "8        147\n",
       "9         57\n",
       "10        27\n",
       "11        12\n",
       "14         9\n",
       "12         7\n",
       "13         6\n",
       "16         4\n",
       "28         1\n",
       "15         1\n",
       "32         1\n",
       "19         1\n",
       "Name: count, dtype: int64"
      ]
     },
     "execution_count": 13,
     "metadata": {},
     "output_type": "execute_result"
    }
   ],
   "source": [
    "drive['Number_of_Vehicles'].value_counts()"
   ]
  },
  {
   "cell_type": "markdown",
   "id": "3e64c188-d4ea-4bc0-8918-080ef9b29127",
   "metadata": {},
   "source": [
    "<h3>Insights NO.9</h3>\n",
    "<h4>2 Vehicles has the most record of an accident in one scene</h4>"
   ]
  },
  {
   "cell_type": "markdown",
   "id": "3d9c2dcd-1937-4719-904b-c320dcf8c115",
   "metadata": {},
   "source": [
    "<h3>Question NO.10</h3>\n",
    "<h4>In this two different kind of vehicle <b>(Agricultural vehicle)</b>, <b>(Van)</b> which of the two has more accident in a single carriageway?</h4>"
   ]
  },
  {
   "cell_type": "code",
   "execution_count": 14,
   "id": "e2c8128d-1fd5-4f28-8d70-c3087338fe3b",
   "metadata": {},
   "outputs": [],
   "source": [
    "rr= drive.groupby(['Vehicle_Type','Road_Type']).size()"
   ]
  },
  {
   "cell_type": "code",
   "execution_count": 15,
   "id": "004b4c67-8469-4398-bb48-d067c1da4753",
   "metadata": {},
   "outputs": [
    {
     "data": {
      "text/plain": [
       "Vehicle_Type                         Road_Type         \n",
       "Agricultural vehicle                 Dual carriageway        293\n",
       "                                     One way street           49\n",
       "                                     Roundabout              129\n",
       "                                     Single carriageway     1436\n",
       "                                     Slip road                27\n",
       "                                                           ...  \n",
       "Van / Goods 3.5 tonnes mgw or under  Dual carriageway       5107\n",
       "                                     One way street          723\n",
       "                                     Roundabout             2294\n",
       "                                     Single carriageway    25460\n",
       "                                     Slip road               361\n",
       "Length: 73, dtype: int64"
      ]
     },
     "execution_count": 15,
     "metadata": {},
     "output_type": "execute_result"
    }
   ],
   "source": [
    "rr"
   ]
  },
  {
   "cell_type": "markdown",
   "id": "8562cba4-8c82-4ab6-8201-7171cad6bce3",
   "metadata": {},
   "source": [
    "<h3>Insights NO.10</h3>\n",
    "<h4>The Van has more accident in a single carriageway than the Agriculture vehicle</h4>"
   ]
  },
  {
   "cell_type": "markdown",
   "id": "31c29968-df18-4790-baa5-3dea87aa0a9e",
   "metadata": {},
   "source": [
    "<h3>Question NO.11</h3>\n",
    "<h4>Which of the district areas has the least Road Surface Condition accidents?</h4>"
   ]
  },
  {
   "cell_type": "code",
   "execution_count": 16,
   "id": "534b33e9-e387-48c8-801d-e200cd7288f1",
   "metadata": {},
   "outputs": [],
   "source": [
    "DR= drive.groupby(['District Area', 'Road_Surface_Conditions']).size()"
   ]
  },
  {
   "cell_type": "code",
   "execution_count": 17,
   "id": "2e484a04-b6f7-4a55-8f97-6d66a8955d01",
   "metadata": {
    "scrolled": true
   },
   "outputs": [
    {
     "data": {
      "text/plain": [
       "District Area  Road_Surface_Conditions\n",
       "Aberdeen City  Dry                         815\n",
       "               Frost or ice                 25\n",
       "               Snow                         15\n",
       "               Wet or damp                 468\n",
       "Aberdeenshire  Dry                         941\n",
       "                                          ... \n",
       "Wyre Forest    Wet or damp                 238\n",
       "York           Dry                        1324\n",
       "               Frost or ice                 42\n",
       "               Snow                         22\n",
       "               Wet or damp                 508\n",
       "Length: 2005, dtype: int64"
      ]
     },
     "execution_count": 17,
     "metadata": {},
     "output_type": "execute_result"
    }
   ],
   "source": [
    "DR"
   ]
  },
  {
   "cell_type": "markdown",
   "id": "bac006f8-390c-4f60-b9dc-8229bdf7a8b8",
   "metadata": {},
   "source": [
    "<h3>Insights NO.11</h3>\n",
    "<h4>The Aberdeen City has the least and it's a snow condition with 15 incident</h4>"
   ]
  },
  {
   "cell_type": "markdown",
   "id": "394c3032-eb53-459d-80dd-cb37ba2bc555",
   "metadata": {},
   "source": [
    "<h3>Question NO.12</h3>\n",
    "<h4>Which Area has the least accident?</h4>"
   ]
  },
  {
   "cell_type": "code",
   "execution_count": 18,
   "id": "cb596966-7489-4e3a-81c7-c99aa3ffe690",
   "metadata": {},
   "outputs": [
    {
     "data": {
      "text/plain": [
       "District Area\n",
       "Birmingham            13491\n",
       "Leeds                  8898\n",
       "Manchester             6720\n",
       "Bradford               6212\n",
       "Sheffield              5710\n",
       "                      ...  \n",
       "Berwick-upon-Tweed      153\n",
       "Teesdale                142\n",
       "Shetland Islands        133\n",
       "Orkney Islands          117\n",
       "Clackmannanshire         91\n",
       "Name: count, Length: 422, dtype: int64"
      ]
     },
     "execution_count": 18,
     "metadata": {},
     "output_type": "execute_result"
    }
   ],
   "source": [
    "drive['District Area'].value_counts()"
   ]
  },
  {
   "cell_type": "markdown",
   "id": "3e5e2e21-ace8-4b3a-892b-34648cff87e0",
   "metadata": {},
   "source": [
    "<h3>Insights NO.12</h3>\n",
    "<h4>The Clackmannanshire has the least accident</h4>"
   ]
  },
  {
   "cell_type": "markdown",
   "id": "76882210-985f-4e1b-9323-8ba7e9570078",
   "metadata": {},
   "source": [
    "<h3>Question NO.13</h3>\n",
    "<h4>How many accidents does the Pedal cycle have been involved during the daylight? </h4>"
   ]
  },
  {
   "cell_type": "code",
   "execution_count": 19,
   "id": "c0923b86-f1c6-4f98-9d51-d88bb38d66c6",
   "metadata": {},
   "outputs": [],
   "source": [
    "car = drive.groupby(['Light_Conditions', 'Vehicle_Type']).size()"
   ]
  },
  {
   "cell_type": "code",
   "execution_count": 20,
   "id": "7b1039ff-2015-4a74-9a6e-f98f1257d19a",
   "metadata": {},
   "outputs": [
    {
     "data": {
      "text/plain": [
       "Light_Conditions             Vehicle_Type                        \n",
       "Darkness - lighting unknown  Agricultural vehicle                       19\n",
       "                             Bus or coach (17 or more pass seats)      267\n",
       "                             Car                                      4914\n",
       "                             Goods 7.5 tonnes mgw and over             185\n",
       "                             Goods over 3.5t. and under 7.5t            59\n",
       "                                                                     ...  \n",
       "Daylight                     Other vehicle                            4132\n",
       "                             Pedal cycle                               146\n",
       "                             Ridden horse                                3\n",
       "                             Taxi/Private hire car                    9752\n",
       "                             Van / Goods 3.5 tonnes mgw or under     24944\n",
       "Length: 74, dtype: int64"
      ]
     },
     "execution_count": 20,
     "metadata": {},
     "output_type": "execute_result"
    }
   ],
   "source": [
    "car"
   ]
  },
  {
   "cell_type": "markdown",
   "id": "17665205-0997-438c-a043-c541225cd7e0",
   "metadata": {},
   "source": [
    "<h3>Insights NO.13</h3>\n",
    "<h4>There are 146 records that the Pedal cycle have been involved to a accident during the daylight</h4>"
   ]
  },
  {
   "cell_type": "markdown",
   "id": "b2f08a08-df89-48c2-9489-6d35babe341c",
   "metadata": {},
   "source": [
    "<h3>Question NO.14</h3>\n",
    "<h4>What kind of road type has the least accident?</h4>"
   ]
  },
  {
   "cell_type": "code",
   "execution_count": 21,
   "id": "114c3aa0-1488-4ebe-9b78-e34b51aa49ae",
   "metadata": {},
   "outputs": [],
   "source": [
    "car = drive.groupby(['Light_Conditions', 'Vehicle_Type']).size()"
   ]
  },
  {
   "cell_type": "code",
   "execution_count": 22,
   "id": "89eb856d-d99e-4b71-87ba-56b3ad3fdf5a",
   "metadata": {},
   "outputs": [
    {
     "data": {
      "text/plain": [
       "Road_Type\n",
       "Single carriageway    492143\n",
       "Dual carriageway       99424\n",
       "Roundabout             43992\n",
       "One way street         13559\n",
       "Slip road               7041\n",
       "Name: count, dtype: int64"
      ]
     },
     "execution_count": 22,
     "metadata": {},
     "output_type": "execute_result"
    }
   ],
   "source": [
    "drive['Road_Type'].value_counts()"
   ]
  },
  {
   "cell_type": "markdown",
   "id": "92f44075-ce94-4598-8709-2f77c2457447",
   "metadata": {},
   "source": [
    "<h3>Insights NO.14</h3>\n",
    "<h4>The slip road has the least accident</h4>"
   ]
  },
  {
   "cell_type": "markdown",
   "id": "55dfa82d-0e2c-4bce-98ed-4c278f5a7885",
   "metadata": {},
   "source": [
    "<h3>Question NO.15</h3>\n",
    "<h4>How many car have an accident during the darkness?</h4>"
   ]
  },
  {
   "cell_type": "code",
   "execution_count": 23,
   "id": "ee746387-0298-4484-aec3-8812d9262c77",
   "metadata": {},
   "outputs": [
    {
     "data": {
      "text/plain": [
       "Light_Conditions             Vehicle_Type                        \n",
       "Darkness - lighting unknown  Agricultural vehicle                       19\n",
       "                             Bus or coach (17 or more pass seats)      267\n",
       "                             Car                                      4914\n",
       "                             Goods 7.5 tonnes mgw and over             185\n",
       "                             Goods over 3.5t. and under 7.5t            59\n",
       "                                                                     ...  \n",
       "Daylight                     Other vehicle                            4132\n",
       "                             Pedal cycle                               146\n",
       "                             Ridden horse                                3\n",
       "                             Taxi/Private hire car                    9752\n",
       "                             Van / Goods 3.5 tonnes mgw or under     24944\n",
       "Length: 74, dtype: int64"
      ]
     },
     "execution_count": 23,
     "metadata": {},
     "output_type": "execute_result"
    }
   ],
   "source": [
    "car"
   ]
  },
  {
   "cell_type": "markdown",
   "id": "d1158c39-0467-4b29-b9fd-3e2038ffd2f9",
   "metadata": {},
   "source": [
    "<h3>Insights NO.15</h3>\n",
    "<h4>There are 4914 cars that have been into accident during the darkness</h4>"
   ]
  },
  {
   "cell_type": "markdown",
   "id": "57504177-708b-41b8-ace4-025ece0e84e6",
   "metadata": {},
   "source": [
    "<h3>Question NO.16</h3>\n",
    "<h4>What kind of light condition has the least accident record?</h4>"
   ]
  },
  {
   "cell_type": "code",
   "execution_count": 24,
   "id": "68ad44ad-64a6-4b40-b669-e011668aed73",
   "metadata": {},
   "outputs": [
    {
     "data": {
      "text/plain": [
       "Light_Conditions\n",
       "Daylight                       484880\n",
       "Darkness - lights lit          129335\n",
       "Darkness - no lighting          37437\n",
       "Darkness - lighting unknown      6484\n",
       "Darkness - lights unlit          2543\n",
       "Name: count, dtype: int64"
      ]
     },
     "execution_count": 24,
     "metadata": {},
     "output_type": "execute_result"
    }
   ],
   "source": [
    "drive['Light_Conditions'].value_counts()"
   ]
  },
  {
   "cell_type": "markdown",
   "id": "8da0c083-6ea6-47c6-afaf-485ef546ed71",
   "metadata": {},
   "source": [
    "<h3>Insights NO.16</h3>\n",
    "<h4>Darkness - lights unlit has the least Light condition record</h4>"
   ]
  },
  {
   "cell_type": "markdown",
   "id": "c0b20ae0-ba5d-4a6a-94f2-56235f11d64e",
   "metadata": {},
   "source": [
    "<h3>Question NO.17</h3>\n",
    "<h4>What kind of road type has the least most record during darkness lights unlit?</h4>"
   ]
  },
  {
   "cell_type": "code",
   "execution_count": 25,
   "id": "38ca0eb8-fc44-4da6-b1a8-9c9badfddac3",
   "metadata": {},
   "outputs": [],
   "source": [
    "light = drive.groupby(['Light_Conditions', 'Road_Type']).size()"
   ]
  },
  {
   "cell_type": "code",
   "execution_count": 26,
   "id": "baf38924-85df-4c10-8ef5-76602cdb1894",
   "metadata": {},
   "outputs": [
    {
     "data": {
      "text/plain": [
       "Light_Conditions             Road_Type         \n",
       "Darkness - lighting unknown  Dual carriageway         905\n",
       "                             One way street           124\n",
       "                             Roundabout               470\n",
       "                             Single carriageway      4664\n",
       "                             Slip road                 86\n",
       "Darkness - lights lit        Dual carriageway       20242\n",
       "                             One way street          3310\n",
       "                             Roundabout             10528\n",
       "                             Single carriageway     93337\n",
       "                             Slip road               1315\n",
       "Darkness - lights unlit      Dual carriageway         465\n",
       "                             One way street            58\n",
       "                             Roundabout               189\n",
       "                             Single carriageway      1770\n",
       "                             Slip road                 34\n",
       "Darkness - no lighting       Dual carriageway        7460\n",
       "                             One way street           103\n",
       "                             Roundabout               224\n",
       "                             Single carriageway     29107\n",
       "                             Slip road                357\n",
       "Daylight                     Dual carriageway       70352\n",
       "                             One way street          9964\n",
       "                             Roundabout             32581\n",
       "                             Single carriageway    363265\n",
       "                             Slip road               5249\n",
       "dtype: int64"
      ]
     },
     "execution_count": 26,
     "metadata": {},
     "output_type": "execute_result"
    }
   ],
   "source": [
    "light"
   ]
  },
  {
   "cell_type": "markdown",
   "id": "14c782ed-889d-431a-ab6e-b27c07d02bed",
   "metadata": {},
   "source": [
    "<h3>Insights NO.17</h3>\n",
    "<h4>The Single carriageway has the most record of accident during the Darkness lights unlit </h4>"
   ]
  },
  {
   "cell_type": "markdown",
   "id": "2f1e3919-6c86-43b5-a74a-3867344a635d",
   "metadata": {},
   "source": [
    "<h3>Question NO.18</h3>\n",
    "<h3>What latitude has the most record?</h3>"
   ]
  },
  {
   "cell_type": "code",
   "execution_count": 27,
   "id": "b39982ee-9b9e-4caa-9f82-38e0e79aeed3",
   "metadata": {},
   "outputs": [
    {
     "data": {
      "text/plain": [
       "0    52.458798\n",
       "Name: Latitude, dtype: float64"
      ]
     },
     "execution_count": 27,
     "metadata": {},
     "output_type": "execute_result"
    }
   ],
   "source": [
    "drive['Latitude'].mode()"
   ]
  },
  {
   "cell_type": "markdown",
   "id": "211fba01-adac-428c-94b2-b4a5d499d57f",
   "metadata": {},
   "source": [
    "<h3>Insights NO.18</h3>\n",
    "<h4>Latitude 52.458798 has the most record</h4>"
   ]
  },
  {
   "cell_type": "markdown",
   "id": "1657c221-3499-4496-9377-17d9fed8e135",
   "metadata": {},
   "source": [
    "<h3>Question NO.19</h3>\n",
    "<h4>In a serious road accident what light condition has the most accident?</h4>"
   ]
  },
  {
   "cell_type": "code",
   "execution_count": 28,
   "id": "1f4291dc-ac3f-49cb-9964-31040af09ba5",
   "metadata": {},
   "outputs": [],
   "source": [
    "acl = drive.groupby(['Accident_Severity', 'Light_Conditions']).size()"
   ]
  },
  {
   "cell_type": "code",
   "execution_count": 29,
   "id": "c1766f45-3320-41c4-b4e6-6163e592fa94",
   "metadata": {},
   "outputs": [
    {
     "data": {
      "text/plain": [
       "Accident_Severity  Light_Conditions           \n",
       "Fatal              Darkness - lighting unknown        68\n",
       "                   Darkness - lights lit            1860\n",
       "                   Darkness - lights unlit            45\n",
       "                   Darkness - no lighting           1612\n",
       "                   Daylight                         5076\n",
       "Serious            Darkness - lighting unknown       794\n",
       "                   Darkness - lights lit           19130\n",
       "                   Darkness - lights unlit           360\n",
       "                   Darkness - no lighting           7174\n",
       "                   Daylight                        60759\n",
       "Slight             Darkness - lighting unknown      5622\n",
       "                   Darkness - lights lit          108345\n",
       "                   Darkness - lights unlit          2138\n",
       "                   Darkness - no lighting          28651\n",
       "                   Daylight                       419045\n",
       "dtype: int64"
      ]
     },
     "execution_count": 29,
     "metadata": {},
     "output_type": "execute_result"
    }
   ],
   "source": [
    "acl"
   ]
  },
  {
   "cell_type": "markdown",
   "id": "9361556f-4c70-4af6-973e-3c1379c57c8c",
   "metadata": {},
   "source": [
    "<h3>Insights NO.19</h3>\n",
    "<h4>According to the data Daylight  has the most recored of having an accident</h4>"
   ]
  },
  {
   "cell_type": "markdown",
   "id": "43f37b88-0ba5-41c9-95f8-a656db8207ba",
   "metadata": {},
   "source": [
    "<h3>Question NO.20</h3>\n",
    "<h4>What date has the most accident that happend?</h4>"
   ]
  },
  {
   "cell_type": "code",
   "execution_count": 30,
   "id": "cdaeea80-9b2f-48ee-a2b8-ee33c36381f1",
   "metadata": {},
   "outputs": [
    {
     "data": {
      "text/plain": [
       "0    30-11-2019\n",
       "Name: Accident Date, dtype: object"
      ]
     },
     "execution_count": 30,
     "metadata": {},
     "output_type": "execute_result"
    }
   ],
   "source": [
    "drive['Accident Date'].mode()"
   ]
  },
  {
   "cell_type": "markdown",
   "id": "56830573-0908-4e5f-a62b-b2a3c6da48e3",
   "metadata": {},
   "source": [
    "<h3>Insights NO.20</h3>\n",
    "<h4>According to data records 30-11-2019 has the most accident that happend</h4>"
   ]
  },
  {
   "cell_type": "code",
   "execution_count": null,
   "id": "c6eacd13-7461-4d56-ac93-63c8395e4d22",
   "metadata": {},
   "outputs": [],
   "source": []
  }
 ],
 "metadata": {
  "kernelspec": {
   "display_name": "Python 3 (ipykernel)",
   "language": "python",
   "name": "python3"
  },
  "language_info": {
   "codemirror_mode": {
    "name": "ipython",
    "version": 3
   },
   "file_extension": ".py",
   "mimetype": "text/x-python",
   "name": "python",
   "nbconvert_exporter": "python",
   "pygments_lexer": "ipython3",
   "version": "3.13.7"
  }
 },
 "nbformat": 4,
 "nbformat_minor": 5
}
